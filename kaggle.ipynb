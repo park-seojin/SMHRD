{
 "cells": [
  {
   "cell_type": "markdown",
   "metadata": {},
   "source": [
    "### 2.1데이터수집"
   ]
  },
  {
   "cell_type": "code",
   "execution_count": 73,
   "metadata": {},
   "outputs": [],
   "source": [
    "import pandas as pd\n",
    "import numpy as np\n",
    "import matplotlib.pyplot as plt"
   ]
  },
  {
   "cell_type": "code",
   "execution_count": 74,
   "metadata": {},
   "outputs": [],
   "source": [
    "train = pd.read_csv('train.csv') # 훈련용(문제,답)\n",
    "test = pd.read_csv('test.csv') # 평가용\n",
    "submission = pd.read_csv('sample_submission.csv') # 업로드 양식"
   ]
  },
  {
   "cell_type": "code",
   "execution_count": 75,
   "metadata": {},
   "outputs": [
    {
     "data": {
      "text/plain": [
       "((29305, 16), (19537, 15))"
      ]
     },
     "execution_count": 75,
     "metadata": {},
     "output_type": "execute_result"
    }
   ],
   "source": [
    "train.shape, test.shape"
   ]
  },
  {
   "cell_type": "markdown",
   "metadata": {},
   "source": [
    "### 2.2수치형 컬럼 선택"
   ]
  },
  {
   "cell_type": "code",
   "execution_count": 76,
   "metadata": {},
   "outputs": [
    {
     "name": "stdout",
     "output_type": "stream",
     "text": [
      "<class 'pandas.core.frame.DataFrame'>\n",
      "RangeIndex: 29305 entries, 0 to 29304\n",
      "Data columns (total 16 columns):\n",
      " #   Column          Non-Null Count  Dtype \n",
      "---  ------          --------------  ----- \n",
      " 0   no              29305 non-null  int64 \n",
      " 1   age             29305 non-null  int64 \n",
      " 2   workclass       29305 non-null  object\n",
      " 3   fnlwgt          29305 non-null  int64 \n",
      " 4   education       29305 non-null  object\n",
      " 5   education-num   29305 non-null  int64 \n",
      " 6   marital-status  29305 non-null  object\n",
      " 7   occupation      29305 non-null  object\n",
      " 8   relationship    29305 non-null  object\n",
      " 9   race            29305 non-null  object\n",
      " 10  sex             29305 non-null  object\n",
      " 11  capital-gain    29305 non-null  int64 \n",
      " 12  capital-loss    29305 non-null  int64 \n",
      " 13  hours-per-week  29305 non-null  int64 \n",
      " 14  native-country  29305 non-null  object\n",
      " 15  income          29305 non-null  int64 \n",
      "dtypes: int64(8), object(8)\n",
      "memory usage: 3.6+ MB\n"
     ]
    }
   ],
   "source": [
    "train.info()"
   ]
  },
  {
   "cell_type": "markdown",
   "metadata": {},
   "source": [
    "### 데이터 전처리"
   ]
  },
  {
   "cell_type": "code",
   "execution_count": 77,
   "metadata": {},
   "outputs": [
    {
     "name": "stdout",
     "output_type": "stream",
     "text": [
      "[29306 29307 29308 ... 48840 48841 48842]\n",
      "[18 29 45 42 41 17 34 22 35 36 40 81 21 26 24 33 27 55 49 52 60 51 48 25\n",
      " 19 31 44 61 72 23 39 71 47 43 58 38 62 80 28 68 30 59 20 32 53 66 63 79\n",
      " 54 65 37 46 50 64 78 57 56 67 90 73 69 75 70 76 77 74 88 82 84 87 89 83\n",
      " 85]\n",
      "['?' 'Private' 'Self-emp-not-inc' 'Local-gov' 'Self-emp-inc' 'State-gov'\n",
      " 'Federal-gov' 'Without-pay' 'Never-worked']\n",
      "[245274  83003  35136 ... 117473 150817 341632]\n",
      "['Some-college' 'HS-grad' 'Bachelors' 'Doctorate' '10th' 'Assoc-voc'\n",
      " 'Masters' '7th-8th' '9th' '11th' 'Prof-school' 'Assoc-acdm' '5th-6th'\n",
      " '12th' '1st-4th' 'Preschool']\n",
      "[10  9 13 16  6 11 14  4  5  7 15 12  3  8  2  1]\n",
      "['Never-married' 'Married-civ-spouse' 'Widowed' 'Divorced' 'Separated'\n",
      " 'Married-spouse-absent' 'Married-AF-spouse']\n",
      "['?' 'Other-service' 'Tech-support' 'Exec-managerial' 'Farming-fishing'\n",
      " 'Sales' 'Adm-clerical' 'Craft-repair' 'Handlers-cleaners'\n",
      " 'Machine-op-inspct' 'Protective-serv' 'Prof-specialty' 'Transport-moving'\n",
      " 'Priv-house-serv' 'Armed-Forces']\n",
      "['Own-child' 'Wife' 'Husband' 'Not-in-family' 'Unmarried' 'Other-relative']\n",
      "['White' 'Black' 'Asian-Pac-Islander' 'Amer-Indian-Eskimo' 'Other']\n",
      "['Male' 'Female']\n",
      "[    0   594 14344  2105  7298  2653 14084 13550  3674  3137 99999  2964\n",
      "  2993  7688  2977  4650  3411  8614  2635  3908  5013  2009  4064  2174\n",
      "  4416  4386  3103  5455  5178 15024 25124  3325 27828  7443  4101 20051\n",
      "  2538  2329  3942  2829  1506  2202  2346 10520  3456  2597  5556  6849\n",
      "  9386  5721  3464  1055  2062  4508  2463  2354 25236  9562  1797  2050\n",
      "   914  2961   114  7262  1409  2580  1831  4787  2290  2176  6497  3432\n",
      "  3418  2885 10605  4865  7896 34095  2936  1151  2907  2407  1848  6514\n",
      "  7430  3471  2228  6418  3781  4934  3887  7978  3273  3818  1455  1264\n",
      " 15020  1086  2036  1471 15831  2387  2414  6767   991  1173 10566  6723\n",
      "  6360   401  6097 11678  1639  4687  1731  1424 18481]\n",
      "[   0 1902 1887 1590 1977 1719 1974 1485 1848 2559 2051 1380 2002 1602\n",
      " 2001 2231 2163 1740 1741 2547 2205 2824 2415 1504 2339 2603 1510  625\n",
      " 2377 1876 1669 2206 1564 1672 1668 2258 1825 1721 2392 1579 2042 1762\n",
      " 2282  213 1816 2129 2057 2179 1628  323 1617 1573  155  419 1726 1980\n",
      " 1408  653 1651 1092 2754 2472 2444 1594 1735 2149  810 3770 1844 3900\n",
      " 1138 2174 3004 1340 2238 2457 1648  880 2246 3683 1911 1755 1944 2267\n",
      " 1421 2080 2489 1429]\n",
      "[16 40 10 60 50  4 38 30 25 20 44 35 45 67 12 32 65 70 52  8 37 55 24 42\n",
      " 22  5 36 84  2 48 56 18 43 15 39 33 58 41  1 49 80 54 75 28 99 17 97 46\n",
      " 64 23 68  9 11 47 27 14 63  3 21  7  6 57 98 85 26 59 66 61 87 72 53 90\n",
      " 62 51 19 95 13 96 34 78 77 91 29 76 73 31 81 79 86]\n",
      "['United-States' 'Puerto-Rico' 'Portugal' '?' 'El-Salvador' 'Iran' 'India'\n",
      " 'Philippines' 'Vietnam' 'Cuba' 'Italy' 'Hungary' 'Jamaica' 'Germany'\n",
      " 'Mexico' 'England' 'Columbia' 'China' 'Nicaragua' 'Taiwan' 'Scotland'\n",
      " 'Ireland' 'Poland' 'South' 'France' 'Guatemala' 'Japan' 'Canada'\n",
      " 'Ecuador' 'Dominican-Republic' 'Yugoslavia' 'Haiti' 'Greece'\n",
      " 'Outlying-US(Guam-USVI-etc)' 'Laos' 'Trinadad&Tobago' 'Thailand' 'Peru'\n",
      " 'Honduras' 'Hong' 'Cambodia']\n"
     ]
    }
   ],
   "source": [
    "# 컬럼의 띄어쓰기 삭제\n",
    "for i in ['workclass','education','marital-status', 'occupation', 'relationship', 'race', 'sex','native-country']:\n",
    "    train[i]=train[i].str.strip()\n",
    "    test[i]=test[i].str.strip()\n",
    "for i in test.columns:\n",
    "    print(test[i].unique())"
   ]
  },
  {
   "cell_type": "code",
   "execution_count": 78,
   "metadata": {},
   "outputs": [],
   "source": [
    "# 중복 컬럼 제거\n",
    "train.drop('education', axis = 1, inplace = True)\n",
    "test.drop('education', axis = 1, inplace = True)"
   ]
  },
  {
   "cell_type": "code",
   "execution_count": 79,
   "metadata": {
    "scrolled": true
   },
   "outputs": [
    {
     "data": {
      "text/plain": [
       "40    13652\n",
       "50     2554\n",
       "45     1647\n",
       "60     1352\n",
       "35     1154\n",
       "      ...  \n",
       "97        1\n",
       "73        1\n",
       "82        1\n",
       "94        1\n",
       "69        1\n",
       "Name: hours-per-week, Length: 93, dtype: int64"
      ]
     },
     "execution_count": 79,
     "metadata": {},
     "output_type": "execute_result"
    }
   ],
   "source": [
    "train['hours-per-week'].value_counts()"
   ]
  },
  {
   "cell_type": "code",
   "execution_count": 80,
   "metadata": {
    "scrolled": true
   },
   "outputs": [
    {
     "data": {
      "text/plain": [
       "Married-civ-spouse       13331\n",
       "Never-married             9673\n",
       "Divorced                  4030\n",
       "Widowed                    942\n",
       "Separated                  914\n",
       "Married-spouse-absent      394\n",
       "Married-AF-spouse           21\n",
       "Name: marital-status, dtype: int64"
      ]
     },
     "execution_count": 80,
     "metadata": {},
     "output_type": "execute_result"
    }
   ],
   "source": [
    "train['marital-status'].value_counts()"
   ]
  },
  {
   "cell_type": "code",
   "execution_count": 81,
   "metadata": {},
   "outputs": [],
   "source": [
    "#  트레인 결측치 대체\n",
    "train['workclass'].replace('?','Private', inplace = True)\n",
    "train['native-country'].replace('?','United-States', inplace = True)\n",
    "train['occupation'].replace('?','Prof-specialty', inplace = True)"
   ]
  },
  {
   "cell_type": "code",
   "execution_count": 82,
   "metadata": {
    "scrolled": true
   },
   "outputs": [
    {
     "data": {
      "text/plain": [
       "Married-civ-spouse       13331\n",
       "Never-married             9673\n",
       "Divorced                  4030\n",
       "Widowed                    942\n",
       "Separated                  914\n",
       "Married-spouse-absent      394\n",
       "Married-AF-spouse           21\n",
       "Name: marital-status, dtype: int64"
      ]
     },
     "execution_count": 82,
     "metadata": {},
     "output_type": "execute_result"
    }
   ],
   "source": [
    "train['marital-status'].value_counts()"
   ]
  },
  {
   "cell_type": "code",
   "execution_count": 83,
   "metadata": {},
   "outputs": [],
   "source": [
    "# marital-status 라벨인코딩\n",
    "from sklearn.preprocessing import LabelEncoder"
   ]
  },
  {
   "cell_type": "code",
   "execution_count": 84,
   "metadata": {},
   "outputs": [],
   "source": [
    "train['marital-status']=train['marital-status'].map({'Married-civ-spouse':0,'Never-married':1,'Divorced':2,'Widowed':3,\n",
    "                                                    'Separated':4,'Married-spouse-absent':5,'Married-AF-spouse':6})"
   ]
  },
  {
   "cell_type": "code",
   "execution_count": 85,
   "metadata": {},
   "outputs": [],
   "source": [
    "test['marital-status']=test['marital-status'].map({'Married-civ-spouse':0,'Never-married':1,'Divorced':2,'Widowed':3,\n",
    "                                                    'Separated':4,'Married-spouse-absent':5,'Married-AF-spouse':6})"
   ]
  },
  {
   "cell_type": "code",
   "execution_count": 86,
   "metadata": {
    "scrolled": true
   },
   "outputs": [
    {
     "data": {
      "text/html": [
       "<div>\n",
       "<style scoped>\n",
       "    .dataframe tbody tr th:only-of-type {\n",
       "        vertical-align: middle;\n",
       "    }\n",
       "\n",
       "    .dataframe tbody tr th {\n",
       "        vertical-align: top;\n",
       "    }\n",
       "\n",
       "    .dataframe thead th {\n",
       "        text-align: right;\n",
       "    }\n",
       "</style>\n",
       "<table border=\"1\" class=\"dataframe\">\n",
       "  <thead>\n",
       "    <tr style=\"text-align: right;\">\n",
       "      <th></th>\n",
       "      <th>no</th>\n",
       "      <th>age</th>\n",
       "      <th>fnlwgt</th>\n",
       "      <th>education-num</th>\n",
       "      <th>marital-status</th>\n",
       "      <th>capital-gain</th>\n",
       "      <th>capital-loss</th>\n",
       "      <th>hours-per-week</th>\n",
       "      <th>income</th>\n",
       "    </tr>\n",
       "  </thead>\n",
       "  <tbody>\n",
       "    <tr>\n",
       "      <th>no</th>\n",
       "      <td>1.000000</td>\n",
       "      <td>0.001111</td>\n",
       "      <td>0.002347</td>\n",
       "      <td>-0.008466</td>\n",
       "      <td>0.006706</td>\n",
       "      <td>0.003916</td>\n",
       "      <td>0.003246</td>\n",
       "      <td>0.003166</td>\n",
       "      <td>-0.004080</td>\n",
       "    </tr>\n",
       "    <tr>\n",
       "      <th>age</th>\n",
       "      <td>0.001111</td>\n",
       "      <td>1.000000</td>\n",
       "      <td>-0.075753</td>\n",
       "      <td>0.035084</td>\n",
       "      <td>-0.000616</td>\n",
       "      <td>0.078498</td>\n",
       "      <td>0.054413</td>\n",
       "      <td>0.073100</td>\n",
       "      <td>0.238460</td>\n",
       "    </tr>\n",
       "    <tr>\n",
       "      <th>fnlwgt</th>\n",
       "      <td>0.002347</td>\n",
       "      <td>-0.075753</td>\n",
       "      <td>1.000000</td>\n",
       "      <td>-0.030600</td>\n",
       "      <td>0.010981</td>\n",
       "      <td>-0.005051</td>\n",
       "      <td>-0.001513</td>\n",
       "      <td>-0.010154</td>\n",
       "      <td>-0.002994</td>\n",
       "    </tr>\n",
       "    <tr>\n",
       "      <th>education-num</th>\n",
       "      <td>-0.008466</td>\n",
       "      <td>0.035084</td>\n",
       "      <td>-0.030600</td>\n",
       "      <td>1.000000</td>\n",
       "      <td>-0.100575</td>\n",
       "      <td>0.127651</td>\n",
       "      <td>0.083925</td>\n",
       "      <td>0.147569</td>\n",
       "      <td>0.331798</td>\n",
       "    </tr>\n",
       "    <tr>\n",
       "      <th>marital-status</th>\n",
       "      <td>0.006706</td>\n",
       "      <td>-0.000616</td>\n",
       "      <td>0.010981</td>\n",
       "      <td>-0.100575</td>\n",
       "      <td>1.000000</td>\n",
       "      <td>-0.052621</td>\n",
       "      <td>-0.052832</td>\n",
       "      <td>-0.130209</td>\n",
       "      <td>-0.311211</td>\n",
       "    </tr>\n",
       "    <tr>\n",
       "      <th>capital-gain</th>\n",
       "      <td>0.003916</td>\n",
       "      <td>0.078498</td>\n",
       "      <td>-0.005051</td>\n",
       "      <td>0.127651</td>\n",
       "      <td>-0.052621</td>\n",
       "      <td>1.000000</td>\n",
       "      <td>-0.031401</td>\n",
       "      <td>0.088609</td>\n",
       "      <td>0.221387</td>\n",
       "    </tr>\n",
       "    <tr>\n",
       "      <th>capital-loss</th>\n",
       "      <td>0.003246</td>\n",
       "      <td>0.054413</td>\n",
       "      <td>-0.001513</td>\n",
       "      <td>0.083925</td>\n",
       "      <td>-0.052832</td>\n",
       "      <td>-0.031401</td>\n",
       "      <td>1.000000</td>\n",
       "      <td>0.055271</td>\n",
       "      <td>0.135645</td>\n",
       "    </tr>\n",
       "    <tr>\n",
       "      <th>hours-per-week</th>\n",
       "      <td>0.003166</td>\n",
       "      <td>0.073100</td>\n",
       "      <td>-0.010154</td>\n",
       "      <td>0.147569</td>\n",
       "      <td>-0.130209</td>\n",
       "      <td>0.088609</td>\n",
       "      <td>0.055271</td>\n",
       "      <td>1.000000</td>\n",
       "      <td>0.231045</td>\n",
       "    </tr>\n",
       "    <tr>\n",
       "      <th>income</th>\n",
       "      <td>-0.004080</td>\n",
       "      <td>0.238460</td>\n",
       "      <td>-0.002994</td>\n",
       "      <td>0.331798</td>\n",
       "      <td>-0.311211</td>\n",
       "      <td>0.221387</td>\n",
       "      <td>0.135645</td>\n",
       "      <td>0.231045</td>\n",
       "      <td>1.000000</td>\n",
       "    </tr>\n",
       "  </tbody>\n",
       "</table>\n",
       "</div>"
      ],
      "text/plain": [
       "                      no       age    fnlwgt  education-num  marital-status  \\\n",
       "no              1.000000  0.001111  0.002347      -0.008466        0.006706   \n",
       "age             0.001111  1.000000 -0.075753       0.035084       -0.000616   \n",
       "fnlwgt          0.002347 -0.075753  1.000000      -0.030600        0.010981   \n",
       "education-num  -0.008466  0.035084 -0.030600       1.000000       -0.100575   \n",
       "marital-status  0.006706 -0.000616  0.010981      -0.100575        1.000000   \n",
       "capital-gain    0.003916  0.078498 -0.005051       0.127651       -0.052621   \n",
       "capital-loss    0.003246  0.054413 -0.001513       0.083925       -0.052832   \n",
       "hours-per-week  0.003166  0.073100 -0.010154       0.147569       -0.130209   \n",
       "income         -0.004080  0.238460 -0.002994       0.331798       -0.311211   \n",
       "\n",
       "                capital-gain  capital-loss  hours-per-week    income  \n",
       "no                  0.003916      0.003246        0.003166 -0.004080  \n",
       "age                 0.078498      0.054413        0.073100  0.238460  \n",
       "fnlwgt             -0.005051     -0.001513       -0.010154 -0.002994  \n",
       "education-num       0.127651      0.083925        0.147569  0.331798  \n",
       "marital-status     -0.052621     -0.052832       -0.130209 -0.311211  \n",
       "capital-gain        1.000000     -0.031401        0.088609  0.221387  \n",
       "capital-loss       -0.031401      1.000000        0.055271  0.135645  \n",
       "hours-per-week      0.088609      0.055271        1.000000  0.231045  \n",
       "income              0.221387      0.135645        0.231045  1.000000  "
      ]
     },
     "execution_count": 86,
     "metadata": {},
     "output_type": "execute_result"
    }
   ],
   "source": [
    "train.corr()"
   ]
  },
  {
   "cell_type": "code",
   "execution_count": 87,
   "metadata": {},
   "outputs": [
    {
     "data": {
      "text/plain": [
       "0    13331\n",
       "1     9673\n",
       "2     4030\n",
       "3      942\n",
       "4      914\n",
       "5      394\n",
       "6       21\n",
       "Name: marital-status, dtype: int64"
      ]
     },
     "execution_count": 87,
     "metadata": {},
     "output_type": "execute_result"
    }
   ],
   "source": [
    "train['marital-status'].value_counts()"
   ]
  },
  {
   "cell_type": "code",
   "execution_count": 88,
   "metadata": {},
   "outputs": [],
   "source": [
    "# 테스트 결측치 대체\n",
    "test['workclass'].replace('?','Private', inplace = True)\n",
    "test['native-country'].replace('?','United-States', inplace = True)\n",
    "test['occupation'].replace('?','Prof-specialty', inplace = True)"
   ]
  },
  {
   "cell_type": "code",
   "execution_count": 89,
   "metadata": {},
   "outputs": [
    {
     "data": {
      "text/plain": [
       "0        26883\n",
       "15024      300\n",
       "7688       240\n",
       "7298       204\n",
       "99999      148\n",
       "         ...  \n",
       "2993         1\n",
       "6612         1\n",
       "3456         1\n",
       "6097         1\n",
       "22040        1\n",
       "Name: capital-gain, Length: 117, dtype: int64"
      ]
     },
     "execution_count": 89,
     "metadata": {},
     "output_type": "execute_result"
    }
   ],
   "source": [
    "train['capital-gain'].value_counts()"
   ]
  },
  {
   "cell_type": "code",
   "execution_count": 90,
   "metadata": {},
   "outputs": [],
   "source": [
    "# 컬럼 합치기 (capital-gain, capital-loss) = (capital)\n",
    "train['capital'] = train['capital-gain'] - train['capital-loss']\n",
    "test['capital'] = test['capital-gain'] - test['capital-loss']"
   ]
  },
  {
   "cell_type": "code",
   "execution_count": 91,
   "metadata": {},
   "outputs": [],
   "source": [
    "# 사용하지 않을 컬럼 정리\n",
    "train.drop(['capital-gain','capital-loss'], axis=1, inplace=True)\n",
    "test.drop(['capital-gain','capital-loss'], axis=1, inplace=True)"
   ]
  },
  {
   "cell_type": "code",
   "execution_count": 92,
   "metadata": {
    "scrolled": true
   },
   "outputs": [
    {
     "data": {
      "text/plain": [
       "United-States                 26796\n",
       "Mexico                          579\n",
       "Philippines                     178\n",
       "Germany                         124\n",
       "Puerto-Rico                     117\n",
       "Canada                          111\n",
       "El-Salvador                      96\n",
       "Cuba                             94\n",
       "India                            90\n",
       "England                          75\n",
       "South                            74\n",
       "China                            68\n",
       "Jamaica                          68\n",
       "Dominican-Republic               61\n",
       "Italy                            60\n",
       "Japan                            54\n",
       "Columbia                         53\n",
       "Poland                           53\n",
       "Guatemala                        51\n",
       "Haiti                            51\n",
       "Vietnam                          50\n",
       "Portugal                         43\n",
       "Taiwan                           39\n",
       "Iran                             38\n",
       "Nicaragua                        28\n",
       "Greece                           25\n",
       "Peru                             25\n",
       "Ireland                          23\n",
       "Ecuador                          21\n",
       "France                           20\n",
       "Cambodia                         19\n",
       "Hong                             19\n",
       "Thailand                         15\n",
       "Outlying-US(Guam-USVI-etc)       15\n",
       "Yugoslavia                       13\n",
       "Trinadad&Tobago                  13\n",
       "Laos                             13\n",
       "Hungary                          12\n",
       "Honduras                         11\n",
       "Scotland                          9\n",
       "Holand-Netherlands                1\n",
       "Name: native-country, dtype: int64"
      ]
     },
     "execution_count": 92,
     "metadata": {},
     "output_type": "execute_result"
    }
   ],
   "source": [
    "train['native-country'].value_counts()"
   ]
  },
  {
   "cell_type": "code",
   "execution_count": 93,
   "metadata": {},
   "outputs": [],
   "source": [
    "for i in train['native-country']:\n",
    "    if i != 'United-States' and i != 'Mexico' and i != 'Philippines' and i != 'Germany' :\n",
    "        train['native-country'].replace(i,'other', inplace = True)\n",
    "for i in test['native-country']:\n",
    "    if i != 'United-States' and i != 'Mexico' and i != 'Philippines' and i != 'Germany' :\n",
    "        test['native-country'].replace(i,'other', inplace = True)"
   ]
  },
  {
   "cell_type": "code",
   "execution_count": 94,
   "metadata": {},
   "outputs": [],
   "source": [
    "for i in train['age']:\n",
    "    if i <= 20 :\n",
    "        train['age'].replace(i,'0', inplace = True)\n",
    "    elif i <= 30 :\n",
    "         train['age'].replace(i,'1', inplace = True)\n",
    "    elif i <= 40 :\n",
    "        train['age'].replace(i,'2', inplace = True)\n",
    "    elif i <= 50 :\n",
    "        train['age'].replace(i,'3', inplace = True)\n",
    "    elif i <= 60 :\n",
    "         train['age'].replace(i,'4', inplace = True)\n",
    "    elif i <= 70 :\n",
    "         train['age'].replace(i,'5', inplace = True)\n",
    "    elif i <= 80 :\n",
    "         train['age'].replace(i,'6', inplace = True)\n",
    "    elif i <= 90 :\n",
    "         train['age'].replace(i,'7', inplace = True)"
   ]
  },
  {
   "cell_type": "code",
   "execution_count": 95,
   "metadata": {},
   "outputs": [],
   "source": [
    "for i in test['age']:\n",
    "    if i <= 20 :\n",
    "        test['age'].replace(i,'0', inplace = True)\n",
    "    elif i <= 30 :\n",
    "         test['age'].replace(i,'1', inplace = True)\n",
    "    elif i <= 40 :\n",
    "        test['age'].replace(i,'2', inplace = True)\n",
    "    elif i <= 50 :\n",
    "        test['age'].replace(i,'3', inplace = True)\n",
    "    elif i <= 60 :\n",
    "         test['age'].replace(i,'4', inplace = True)\n",
    "    elif i <= 70 :\n",
    "         test['age'].replace(i,'5', inplace = True)\n",
    "    elif i <= 80 :\n",
    "         test['age'].replace(i,'6', inplace = True)\n",
    "    elif i <= 90 :\n",
    "         test['age'].replace(i,'7', inplace = True)"
   ]
  },
  {
   "cell_type": "code",
   "execution_count": 96,
   "metadata": {},
   "outputs": [],
   "source": [
    "train['age']=train['age'].map({'0':0,'1':1,'2':2,'3':3,\n",
    "                            '4':4,'5':5,'6':6,'7':7,})\n",
    "test['age']=test['age'].map({'0':0,'1':1,'2':2,'3':3,\n",
    "                            '4':4,'5':5,'6':6,'7':7,})"
   ]
  },
  {
   "cell_type": "code",
   "execution_count": 97,
   "metadata": {
    "scrolled": true
   },
   "outputs": [
    {
     "data": {
      "text/plain": [
       "2    7750\n",
       "1    7286\n",
       "3    6194\n",
       "4    3725\n",
       "0    2162\n",
       "5    1655\n",
       "6     446\n",
       "7      87\n",
       "Name: age, dtype: int64"
      ]
     },
     "execution_count": 97,
     "metadata": {},
     "output_type": "execute_result"
    }
   ],
   "source": [
    "train['age'].value_counts()"
   ]
  },
  {
   "cell_type": "code",
   "execution_count": 98,
   "metadata": {
    "scrolled": true
   },
   "outputs": [
    {
     "name": "stdout",
     "output_type": "stream",
     "text": [
      "<class 'pandas.core.frame.DataFrame'>\n",
      "RangeIndex: 29305 entries, 0 to 29304\n",
      "Data columns (total 14 columns):\n",
      " #   Column          Non-Null Count  Dtype \n",
      "---  ------          --------------  ----- \n",
      " 0   no              29305 non-null  int64 \n",
      " 1   age             29305 non-null  int64 \n",
      " 2   workclass       29305 non-null  object\n",
      " 3   fnlwgt          29305 non-null  int64 \n",
      " 4   education-num   29305 non-null  int64 \n",
      " 5   marital-status  29305 non-null  int64 \n",
      " 6   occupation      29305 non-null  object\n",
      " 7   relationship    29305 non-null  object\n",
      " 8   race            29305 non-null  object\n",
      " 9   sex             29305 non-null  object\n",
      " 10  hours-per-week  29305 non-null  int64 \n",
      " 11  native-country  29305 non-null  object\n",
      " 12  income          29305 non-null  int64 \n",
      " 13  capital         29305 non-null  int64 \n",
      "dtypes: int64(8), object(6)\n",
      "memory usage: 3.1+ MB\n"
     ]
    }
   ],
   "source": [
    "train.info()"
   ]
  },
  {
   "cell_type": "code",
   "execution_count": 99,
   "metadata": {
    "scrolled": true
   },
   "outputs": [
    {
     "data": {
      "text/plain": [
       "Private             22073\n",
       "Self-emp-not-inc     2305\n",
       "Local-gov            1868\n",
       "State-gov            1201\n",
       "Self-emp-inc          987\n",
       "Federal-gov           854\n",
       "Without-pay            12\n",
       "Never-worked            5\n",
       "Name: workclass, dtype: int64"
      ]
     },
     "execution_count": 99,
     "metadata": {},
     "output_type": "execute_result"
    }
   ],
   "source": [
    "train['workclass'].value_counts()"
   ]
  },
  {
   "cell_type": "code",
   "execution_count": 100,
   "metadata": {},
   "outputs": [],
   "source": [
    "import seaborn as sns\n",
    "import matplotlib.pyplot as plt"
   ]
  },
  {
   "cell_type": "code",
   "execution_count": 101,
   "metadata": {},
   "outputs": [],
   "source": [
    "train['workclass'].replace('Without-pay','nopay', inplace = True)\n",
    "train['workclass'].replace('Never-worked','nopay', inplace = True)\n",
    "test['workclass'].replace('Without-pay','nopay', inplace = True)\n",
    "test['workclass'].replace('Never-worked','nopay', inplace = True)"
   ]
  },
  {
   "cell_type": "code",
   "execution_count": 102,
   "metadata": {
    "scrolled": true
   },
   "outputs": [
    {
     "data": {
      "text/plain": [
       "<AxesSubplot:xlabel='workclass', ylabel='count'>"
      ]
     },
     "execution_count": 102,
     "metadata": {},
     "output_type": "execute_result"
    },
    {
     "data": {
      "image/png": "[encoded data removed]",
      "text/plain": [
       "<Figure size 360x360 with 1 Axes>"
      ]
     },
     "metadata": {
      "needs_background": "light"
     },
     "output_type": "display_data"
    }
   ],
   "source": [
    "plt.figure(figsize = (5,5))\n",
    "sns.countplot(data = train,\n",
    "             x = 'workclass',\n",
    "             hue='income')"
   ]
  },
  {
   "cell_type": "code",
   "execution_count": 103,
   "metadata": {},
   "outputs": [
    {
     "name": "stdout",
     "output_type": "stream",
     "text": [
      "<class 'pandas.core.frame.DataFrame'>\n",
      "RangeIndex: 29305 entries, 0 to 29304\n",
      "Data columns (total 14 columns):\n",
      " #   Column          Non-Null Count  Dtype \n",
      "---  ------          --------------  ----- \n",
      " 0   no              29305 non-null  int64 \n",
      " 1   age             29305 non-null  int64 \n",
      " 2   workclass       29305 non-null  object\n",
      " 3   fnlwgt          29305 non-null  int64 \n",
      " 4   education-num   29305 non-null  int64 \n",
      " 5   marital-status  29305 non-null  int64 \n",
      " 6   occupation      29305 non-null  object\n",
      " 7   relationship    29305 non-null  object\n",
      " 8   race            29305 non-null  object\n",
      " 9   sex             29305 non-null  object\n",
      " 10  hours-per-week  29305 non-null  int64 \n",
      " 11  native-country  29305 non-null  object\n",
      " 12  income          29305 non-null  int64 \n",
      " 13  capital         29305 non-null  int64 \n",
      "dtypes: int64(8), object(6)\n",
      "memory usage: 3.1+ MB\n"
     ]
    }
   ],
   "source": [
    "train.info()"
   ]
  },
  {
   "cell_type": "code",
   "execution_count": 104,
   "metadata": {},
   "outputs": [],
   "source": [
    "train['workclass']=train['workclass'].map({'Private':0,'Self-emp-not-inc':1,'Local-gov':2,'State-gov':3,\n",
    "                            'Self-emp-inc':4,'Federal-gov':5,'nopay':6})\n",
    "test['workclass']=test['workclass'].map({'Private':0,'Self-emp-not-inc':1,'Local-gov':2,'State-gov':3,\n",
    "                            'Self-emp-inc':4,'Federal-gov':5,'nopay':6})"
   ]
  },
  {
   "cell_type": "code",
   "execution_count": 105,
   "metadata": {
    "scrolled": true
   },
   "outputs": [
    {
     "name": "stdout",
     "output_type": "stream",
     "text": [
      "<class 'pandas.core.frame.DataFrame'>\n",
      "RangeIndex: 29305 entries, 0 to 29304\n",
      "Data columns (total 14 columns):\n",
      " #   Column          Non-Null Count  Dtype \n",
      "---  ------          --------------  ----- \n",
      " 0   no              29305 non-null  int64 \n",
      " 1   age             29305 non-null  int64 \n",
      " 2   workclass       29305 non-null  int64 \n",
      " 3   fnlwgt          29305 non-null  int64 \n",
      " 4   education-num   29305 non-null  int64 \n",
      " 5   marital-status  29305 non-null  int64 \n",
      " 6   occupation      29305 non-null  object\n",
      " 7   relationship    29305 non-null  object\n",
      " 8   race            29305 non-null  object\n",
      " 9   sex             29305 non-null  object\n",
      " 10  hours-per-week  29305 non-null  int64 \n",
      " 11  native-country  29305 non-null  object\n",
      " 12  income          29305 non-null  int64 \n",
      " 13  capital         29305 non-null  int64 \n",
      "dtypes: int64(9), object(5)\n",
      "memory usage: 3.1+ MB\n"
     ]
    }
   ],
   "source": [
    "train.info()"
   ]
  },
  {
   "cell_type": "code",
   "execution_count": 106,
   "metadata": {
    "scrolled": true
   },
   "outputs": [
    {
     "data": {
      "text/plain": [
       "<AxesSubplot:xlabel='relationship', ylabel='count'>"
      ]
     },
     "execution_count": 106,
     "metadata": {},
     "output_type": "execute_result"
    },
    {
     "data": {
      "image/png": "[encoded data removed]",
      "text/plain": [
       "<Figure size 576x576 with 1 Axes>"
      ]
     },
     "metadata": {
      "needs_background": "light"
     },
     "output_type": "display_data"
    }
   ],
   "source": [
    "plt.figure(figsize = (8,8))\n",
    "sns.countplot(data = train,\n",
    "             x = 'relationship',\n",
    "             hue='income')"
   ]
  },
  {
   "cell_type": "code",
   "execution_count": 107,
   "metadata": {},
   "outputs": [
    {
     "data": {
      "text/plain": [
       "array(['Not-in-family', 'Husband', 'Unmarried', 'Other-relative',\n",
       "       'Own-child', 'Wife'], dtype=object)"
      ]
     },
     "execution_count": 107,
     "metadata": {},
     "output_type": "execute_result"
    }
   ],
   "source": [
    "train['relationship'].unique()"
   ]
  },
  {
   "cell_type": "code",
   "execution_count": 108,
   "metadata": {},
   "outputs": [],
   "source": [
    "train['relationship']=train['relationship'].map({'Not-in-family':0,'Husband':1,'Unmarried':2,'Other-relative':2,\n",
    "                            'Own-child':2,'Wife':3})"
   ]
  },
  {
   "cell_type": "code",
   "execution_count": 109,
   "metadata": {},
   "outputs": [],
   "source": [
    "test['relationship']=test['relationship'].map({'Not-in-family':0,'Husband':1,'Unmarried':2,'Other-relative':2,\n",
    "                            'Own-child':2,'Wife':3})"
   ]
  },
  {
   "cell_type": "code",
   "execution_count": 110,
   "metadata": {
    "scrolled": true
   },
   "outputs": [
    {
     "data": {
      "text/plain": [
       "1    11769\n",
       "2     8529\n",
       "0     7637\n",
       "3     1370\n",
       "Name: relationship, dtype: int64"
      ]
     },
     "execution_count": 110,
     "metadata": {},
     "output_type": "execute_result"
    }
   ],
   "source": [
    "train['relationship'].value_counts()"
   ]
  },
  {
   "cell_type": "code",
   "execution_count": 111,
   "metadata": {
    "scrolled": false
   },
   "outputs": [
    {
     "data": {
      "text/plain": [
       "<AxesSubplot:xlabel='occupation', ylabel='count'>"
      ]
     },
     "execution_count": 111,
     "metadata": {},
     "output_type": "execute_result"
    },
    {
     "data": {
      "image/png": "[encoded data removed]",
      "text/plain": [
       "<Figure size 1800x576 with 1 Axes>"
      ]
     },
     "metadata": {
      "needs_background": "light"
     },
     "output_type": "display_data"
    }
   ],
   "source": [
    "plt.figure(figsize = (25,8))\n",
    "plt.xticks(fontsize=10)\n",
    "sns.countplot(data = train,\n",
    "             x = 'occupation',\n",
    "             hue='income')"
   ]
  },
  {
   "cell_type": "code",
   "execution_count": 112,
   "metadata": {
    "scrolled": false
   },
   "outputs": [
    {
     "data": {
      "text/plain": [
       "Prof-specialty       5392\n",
       "Craft-repair         3632\n",
       "Exec-managerial      3609\n",
       "Adm-clerical         3440\n",
       "Sales                3292\n",
       "Other-service        2975\n",
       "Machine-op-inspct    1811\n",
       "Transport-moving     1393\n",
       "Handlers-cleaners    1249\n",
       "Farming-fishing       888\n",
       "Tech-support          865\n",
       "Protective-serv       603\n",
       "Priv-house-serv       146\n",
       "Armed-Forces           10\n",
       "Name: occupation, dtype: int64"
      ]
     },
     "execution_count": 112,
     "metadata": {},
     "output_type": "execute_result"
    }
   ],
   "source": [
    "train['occupation'].value_counts()"
   ]
  },
  {
   "cell_type": "code",
   "execution_count": 113,
   "metadata": {},
   "outputs": [
    {
     "name": "stdout",
     "output_type": "stream",
     "text": [
      "<class 'pandas.core.frame.DataFrame'>\n",
      "RangeIndex: 29305 entries, 0 to 29304\n",
      "Data columns (total 14 columns):\n",
      " #   Column          Non-Null Count  Dtype \n",
      "---  ------          --------------  ----- \n",
      " 0   no              29305 non-null  int64 \n",
      " 1   age             29305 non-null  int64 \n",
      " 2   workclass       29305 non-null  int64 \n",
      " 3   fnlwgt          29305 non-null  int64 \n",
      " 4   education-num   29305 non-null  int64 \n",
      " 5   marital-status  29305 non-null  int64 \n",
      " 6   occupation      29305 non-null  object\n",
      " 7   relationship    29305 non-null  int64 \n",
      " 8   race            29305 non-null  object\n",
      " 9   sex             29305 non-null  object\n",
      " 10  hours-per-week  29305 non-null  int64 \n",
      " 11  native-country  29305 non-null  object\n",
      " 12  income          29305 non-null  int64 \n",
      " 13  capital         29305 non-null  int64 \n",
      "dtypes: int64(10), object(4)\n",
      "memory usage: 3.1+ MB\n"
     ]
    }
   ],
   "source": [
    "train.info()"
   ]
  },
  {
   "cell_type": "code",
   "execution_count": 114,
   "metadata": {},
   "outputs": [],
   "source": [
    "train['occupation']=train['occupation'].map({'Machine-op-inspct':0,'Other-service':0,'Handlers-cleaners':0,'Farming-fishing':0,\n",
    "                            'Tech-support':1,'Transport-moving':1,'Prof-specialty':2,'Priv-house-serv':0,'Adm-clerical':3,'Protective-serv':4,'Exec-managerial':5,'Craft-repair':6,\"Sales\":7,'Armed-Forces':7})\n",
    "test['occupation']=test['occupation'].map({'Machine-op-inspct':0,'Other-service':0,'Handlers-cleaners':0,'Farming-fishing':0,\n",
    "                            'Tech-support':1,'Transport-moving':1,'Prof-specialty':2,'Priv-house-serv':0,'Adm-clerical':3,'Protective-serv':4,'Exec-managerial':5,'Craft-repair':6,\"Sales\":7,'Armed-Forces':7})"
   ]
  },
  {
   "cell_type": "code",
   "execution_count": 115,
   "metadata": {},
   "outputs": [
    {
     "data": {
      "text/plain": [
       "0    7069\n",
       "2    5392\n",
       "6    3632\n",
       "5    3609\n",
       "3    3440\n",
       "7    3302\n",
       "1    2258\n",
       "4     603\n",
       "Name: occupation, dtype: int64"
      ]
     },
     "execution_count": 115,
     "metadata": {},
     "output_type": "execute_result"
    }
   ],
   "source": [
    "train['occupation'].value_counts()"
   ]
  },
  {
   "cell_type": "code",
   "execution_count": 116,
   "metadata": {
    "scrolled": false
   },
   "outputs": [
    {
     "name": "stdout",
     "output_type": "stream",
     "text": [
      "<class 'pandas.core.frame.DataFrame'>\n",
      "RangeIndex: 29305 entries, 0 to 29304\n",
      "Data columns (total 14 columns):\n",
      " #   Column          Non-Null Count  Dtype \n",
      "---  ------          --------------  ----- \n",
      " 0   no              29305 non-null  int64 \n",
      " 1   age             29305 non-null  int64 \n",
      " 2   workclass       29305 non-null  int64 \n",
      " 3   fnlwgt          29305 non-null  int64 \n",
      " 4   education-num   29305 non-null  int64 \n",
      " 5   marital-status  29305 non-null  int64 \n",
      " 6   occupation      29305 non-null  int64 \n",
      " 7   relationship    29305 non-null  int64 \n",
      " 8   race            29305 non-null  object\n",
      " 9   sex             29305 non-null  object\n",
      " 10  hours-per-week  29305 non-null  int64 \n",
      " 11  native-country  29305 non-null  object\n",
      " 12  income          29305 non-null  int64 \n",
      " 13  capital         29305 non-null  int64 \n",
      "dtypes: int64(11), object(3)\n",
      "memory usage: 3.1+ MB\n"
     ]
    }
   ],
   "source": [
    "train.info()"
   ]
  },
  {
   "cell_type": "code",
   "execution_count": 117,
   "metadata": {
    "scrolled": true
   },
   "outputs": [
    {
     "data": {
      "text/plain": [
       "White                 25081\n",
       "Black                  2776\n",
       "Asian-Pac-Islander      919\n",
       "Amer-Indian-Eskimo      290\n",
       "Other                   239\n",
       "Name: race, dtype: int64"
      ]
     },
     "execution_count": 117,
     "metadata": {},
     "output_type": "execute_result"
    }
   ],
   "source": [
    "train['race'].value_counts()"
   ]
  },
  {
   "cell_type": "code",
   "execution_count": 118,
   "metadata": {},
   "outputs": [
    {
     "data": {
      "text/plain": [
       "<AxesSubplot:xlabel='race', ylabel='count'>"
      ]
     },
     "execution_count": 118,
     "metadata": {},
     "output_type": "execute_result"
    },
    {
     "data": {
      "image/png": "[encoded data removed]",
      "text/plain": [
       "<Figure size 504x504 with 1 Axes>"
      ]
     },
     "metadata": {
      "needs_background": "light"
     },
     "output_type": "display_data"
    }
   ],
   "source": [
    "plt.figure(figsize = (7,7))\n",
    "plt.xticks(fontsize=10)\n",
    "sns.countplot(data = train,\n",
    "             x = 'race',\n",
    "             hue='income')"
   ]
  },
  {
   "cell_type": "code",
   "execution_count": 119,
   "metadata": {},
   "outputs": [],
   "source": [
    "train['race']=train['race'].map({'White':0,'Black':1,'Asian-Pac-Islander':2,'Amer-Indian-Eskimo':3,\n",
    "                            'Other':4})\n",
    "test['race']=test['race'].map({'White':0,'Black':1,'Asian-Pac-Islander':2,'Amer-Indian-Eskimo':3,\n",
    "                            'Other':4})"
   ]
  },
  {
   "cell_type": "code",
   "execution_count": 120,
   "metadata": {},
   "outputs": [
    {
     "data": {
      "text/plain": [
       "0    25081\n",
       "1     2776\n",
       "2      919\n",
       "3      290\n",
       "4      239\n",
       "Name: race, dtype: int64"
      ]
     },
     "execution_count": 120,
     "metadata": {},
     "output_type": "execute_result"
    }
   ],
   "source": [
    "train['race'].value_counts()"
   ]
  },
  {
   "cell_type": "code",
   "execution_count": 121,
   "metadata": {},
   "outputs": [
    {
     "name": "stdout",
     "output_type": "stream",
     "text": [
      "<class 'pandas.core.frame.DataFrame'>\n",
      "RangeIndex: 29305 entries, 0 to 29304\n",
      "Data columns (total 14 columns):\n",
      " #   Column          Non-Null Count  Dtype \n",
      "---  ------          --------------  ----- \n",
      " 0   no              29305 non-null  int64 \n",
      " 1   age             29305 non-null  int64 \n",
      " 2   workclass       29305 non-null  int64 \n",
      " 3   fnlwgt          29305 non-null  int64 \n",
      " 4   education-num   29305 non-null  int64 \n",
      " 5   marital-status  29305 non-null  int64 \n",
      " 6   occupation      29305 non-null  int64 \n",
      " 7   relationship    29305 non-null  int64 \n",
      " 8   race            29305 non-null  int64 \n",
      " 9   sex             29305 non-null  object\n",
      " 10  hours-per-week  29305 non-null  int64 \n",
      " 11  native-country  29305 non-null  object\n",
      " 12  income          29305 non-null  int64 \n",
      " 13  capital         29305 non-null  int64 \n",
      "dtypes: int64(12), object(2)\n",
      "memory usage: 3.1+ MB\n"
     ]
    }
   ],
   "source": [
    "train.info()\n"
   ]
  },
  {
   "cell_type": "code",
   "execution_count": 122,
   "metadata": {},
   "outputs": [
    {
     "name": "stdout",
     "output_type": "stream",
     "text": [
      "<class 'pandas.core.frame.DataFrame'>\n",
      "RangeIndex: 19537 entries, 0 to 19536\n",
      "Data columns (total 13 columns):\n",
      " #   Column          Non-Null Count  Dtype \n",
      "---  ------          --------------  ----- \n",
      " 0   no              19537 non-null  int64 \n",
      " 1   age             19537 non-null  int64 \n",
      " 2   workclass       19537 non-null  int64 \n",
      " 3   fnlwgt          19537 non-null  int64 \n",
      " 4   education-num   19537 non-null  int64 \n",
      " 5   marital-status  19537 non-null  int64 \n",
      " 6   occupation      19537 non-null  int64 \n",
      " 7   relationship    19537 non-null  int64 \n",
      " 8   race            19537 non-null  int64 \n",
      " 9   sex             19537 non-null  object\n",
      " 10  hours-per-week  19537 non-null  int64 \n",
      " 11  native-country  19537 non-null  object\n",
      " 12  capital         19537 non-null  int64 \n",
      "dtypes: int64(11), object(2)\n",
      "memory usage: 1.9+ MB\n"
     ]
    }
   ],
   "source": [
    "test.info()"
   ]
  },
  {
   "cell_type": "code",
   "execution_count": 123,
   "metadata": {},
   "outputs": [
    {
     "data": {
      "text/plain": [
       "Male      19621\n",
       "Female     9684\n",
       "Name: sex, dtype: int64"
      ]
     },
     "execution_count": 123,
     "metadata": {},
     "output_type": "execute_result"
    }
   ],
   "source": [
    "train['sex'].value_counts()"
   ]
  },
  {
   "cell_type": "code",
   "execution_count": 124,
   "metadata": {},
   "outputs": [],
   "source": [
    "train['sex']=train['sex'].map({'Male':0,'Female':1})\n",
    "test['sex']=test['sex'].map({'Male':0,'Female':1})"
   ]
  },
  {
   "cell_type": "code",
   "execution_count": 125,
   "metadata": {},
   "outputs": [
    {
     "data": {
      "text/plain": [
       "0    19621\n",
       "1     9684\n",
       "Name: sex, dtype: int64"
      ]
     },
     "execution_count": 125,
     "metadata": {},
     "output_type": "execute_result"
    }
   ],
   "source": [
    "train['sex'].value_counts()"
   ]
  },
  {
   "cell_type": "code",
   "execution_count": null,
   "metadata": {},
   "outputs": [],
   "source": []
  },
  {
   "cell_type": "code",
   "execution_count": null,
   "metadata": {},
   "outputs": [],
   "source": []
  },
  {
   "cell_type": "code",
   "execution_count": 126,
   "metadata": {},
   "outputs": [
    {
     "data": {
      "text/plain": [
       "0    22073\n",
       "1     2305\n",
       "2     1868\n",
       "3     1201\n",
       "4      987\n",
       "5      854\n",
       "6       17\n",
       "Name: workclass, dtype: int64"
      ]
     },
     "execution_count": 126,
     "metadata": {},
     "output_type": "execute_result"
    }
   ],
   "source": [
    "train['workclass'].value_counts()"
   ]
  },
  {
   "cell_type": "code",
   "execution_count": 127,
   "metadata": {
    "scrolled": true
   },
   "outputs": [
    {
     "data": {
      "text/plain": [
       "United-States    26796\n",
       "other             1628\n",
       "Mexico             579\n",
       "Philippines        178\n",
       "Germany            124\n",
       "Name: native-country, dtype: int64"
      ]
     },
     "execution_count": 127,
     "metadata": {},
     "output_type": "execute_result"
    }
   ],
   "source": [
    "train['native-country'].value_counts()"
   ]
  },
  {
   "cell_type": "code",
   "execution_count": 128,
   "metadata": {},
   "outputs": [
    {
     "data": {
      "text/plain": [
       "LabelEncoder()"
      ]
     },
     "execution_count": 128,
     "metadata": {},
     "output_type": "execute_result"
    }
   ],
   "source": [
    "from sklearn.preprocessing import LabelEncoder\n",
    "items=['United-States','other','Mexico','Philippines','Germany']\n",
    "le = LabelEncoder()\n",
    "le.fit(items)"
   ]
  },
  {
   "cell_type": "code",
   "execution_count": 129,
   "metadata": {},
   "outputs": [
    {
     "name": "stdout",
     "output_type": "stream",
     "text": [
      "인코딩 변환값 : [3 4 1 2 0]\n"
     ]
    }
   ],
   "source": [
    "labels = le.transform(items)\n",
    "print('인코딩 변환값 :',labels)"
   ]
  },
  {
   "cell_type": "code",
   "execution_count": 130,
   "metadata": {},
   "outputs": [
    {
     "data": {
      "text/plain": [
       "United-States    26796\n",
       "other             1628\n",
       "Mexico             579\n",
       "Philippines        178\n",
       "Germany            124\n",
       "Name: native-country, dtype: int64"
      ]
     },
     "execution_count": 130,
     "metadata": {},
     "output_type": "execute_result"
    }
   ],
   "source": [
    "train['native-country'].value_counts()"
   ]
  },
  {
   "cell_type": "code",
   "execution_count": 131,
   "metadata": {},
   "outputs": [],
   "source": [
    "train['native-country']=train['native-country'].map({'United-States':0,'other':1,'Mexico':2,'Philippines':3,\n",
    "                                                    'Germany':4})\n",
    "test['native-country']=test['native-country'].map({'United-States':0,'other':1,'Mexico':2,'Philippines':3,\n",
    "                                                    'Germany':4})"
   ]
  },
  {
   "cell_type": "code",
   "execution_count": 132,
   "metadata": {
    "scrolled": true
   },
   "outputs": [
    {
     "data": {
      "text/plain": [
       "0    17893\n",
       "1     1073\n",
       "2      372\n",
       "3      117\n",
       "4       82\n",
       "Name: native-country, dtype: int64"
      ]
     },
     "execution_count": 132,
     "metadata": {},
     "output_type": "execute_result"
    }
   ],
   "source": [
    "test['native-country'].value_counts()"
   ]
  },
  {
   "cell_type": "code",
   "execution_count": 133,
   "metadata": {},
   "outputs": [
    {
     "name": "stdout",
     "output_type": "stream",
     "text": [
      "<class 'pandas.core.frame.DataFrame'>\n",
      "RangeIndex: 29305 entries, 0 to 29304\n",
      "Data columns (total 14 columns):\n",
      " #   Column          Non-Null Count  Dtype\n",
      "---  ------          --------------  -----\n",
      " 0   no              29305 non-null  int64\n",
      " 1   age             29305 non-null  int64\n",
      " 2   workclass       29305 non-null  int64\n",
      " 3   fnlwgt          29305 non-null  int64\n",
      " 4   education-num   29305 non-null  int64\n",
      " 5   marital-status  29305 non-null  int64\n",
      " 6   occupation      29305 non-null  int64\n",
      " 7   relationship    29305 non-null  int64\n",
      " 8   race            29305 non-null  int64\n",
      " 9   sex             29305 non-null  int64\n",
      " 10  hours-per-week  29305 non-null  int64\n",
      " 11  native-country  29305 non-null  int64\n",
      " 12  income          29305 non-null  int64\n",
      " 13  capital         29305 non-null  int64\n",
      "dtypes: int64(14)\n",
      "memory usage: 3.1 MB\n"
     ]
    }
   ],
   "source": [
    "train.info()"
   ]
  },
  {
   "cell_type": "code",
   "execution_count": 134,
   "metadata": {},
   "outputs": [
    {
     "name": "stdout",
     "output_type": "stream",
     "text": [
      "<class 'pandas.core.frame.DataFrame'>\n",
      "RangeIndex: 19537 entries, 0 to 19536\n",
      "Data columns (total 13 columns):\n",
      " #   Column          Non-Null Count  Dtype\n",
      "---  ------          --------------  -----\n",
      " 0   no              19537 non-null  int64\n",
      " 1   age             19537 non-null  int64\n",
      " 2   workclass       19537 non-null  int64\n",
      " 3   fnlwgt          19537 non-null  int64\n",
      " 4   education-num   19537 non-null  int64\n",
      " 5   marital-status  19537 non-null  int64\n",
      " 6   occupation      19537 non-null  int64\n",
      " 7   relationship    19537 non-null  int64\n",
      " 8   race            19537 non-null  int64\n",
      " 9   sex             19537 non-null  int64\n",
      " 10  hours-per-week  19537 non-null  int64\n",
      " 11  native-country  19537 non-null  int64\n",
      " 12  capital         19537 non-null  int64\n",
      "dtypes: int64(13)\n",
      "memory usage: 1.9 MB\n"
     ]
    }
   ],
   "source": [
    "test.info()"
   ]
  },
  {
   "cell_type": "code",
   "execution_count": 144,
   "metadata": {},
   "outputs": [
    {
     "data": {
      "text/plain": [
       "0    22073\n",
       "1     2305\n",
       "2     1868\n",
       "3     1201\n",
       "4      987\n",
       "5      854\n",
       "6       17\n",
       "Name: workclass, dtype: int64"
      ]
     },
     "execution_count": 144,
     "metadata": {},
     "output_type": "execute_result"
    }
   ],
   "source": [
    "train['workclass'].value_counts()"
   ]
  },
  {
   "cell_type": "code",
   "execution_count": 136,
   "metadata": {},
   "outputs": [],
   "source": [
    "#feature_names=['no','age','workclass','fnlwgt','education','education-num',\n",
    " #                     'marital-status','occupation','relationship','race','sex',\n",
    "  #                   'capital-gain','capital-loss','hours-per-week','native-country','income']"
   ]
  },
  {
   "cell_type": "code",
   "execution_count": 147,
   "metadata": {},
   "outputs": [],
   "source": [
    "X_train = train.drop(['income'], axis=1) # 수치형 데이터만 문제로 추출\n",
    "y_train = train['income']"
   ]
  },
  {
   "cell_type": "code",
   "execution_count": 149,
   "metadata": {},
   "outputs": [
    {
     "data": {
      "text/plain": [
       "Index(['no', 'age', 'workclass', 'fnlwgt', 'education-num', 'marital-status',\n",
       "       'occupation', 'relationship', 'race', 'sex', 'hours-per-week',\n",
       "       'native-country', 'capital'],\n",
       "      dtype='object')"
      ]
     },
     "execution_count": 149,
     "metadata": {},
     "output_type": "execute_result"
    }
   ],
   "source": [
    "X_train.columns"
   ]
  },
  {
   "cell_type": "code",
   "execution_count": 160,
   "metadata": {},
   "outputs": [],
   "source": [
    "X_train.drop(['no','fnlwgt'], axis=1, inplace=True)\n",
    "X_test=test.drop(['no','fnlwgt'], axis=1)\n"
   ]
  },
  {
   "cell_type": "markdown",
   "metadata": {},
   "source": [
    "### x,y 나누기"
   ]
  },
  {
   "cell_type": "code",
   "execution_count": 161,
   "metadata": {},
   "outputs": [
    {
     "data": {
      "text/html": [
       "<div>\n",
       "<style scoped>\n",
       "    .dataframe tbody tr th:only-of-type {\n",
       "        vertical-align: middle;\n",
       "    }\n",
       "\n",
       "    .dataframe tbody tr th {\n",
       "        vertical-align: top;\n",
       "    }\n",
       "\n",
       "    .dataframe thead th {\n",
       "        text-align: right;\n",
       "    }\n",
       "</style>\n",
       "<table border=\"1\" class=\"dataframe\">\n",
       "  <thead>\n",
       "    <tr style=\"text-align: right;\">\n",
       "      <th></th>\n",
       "      <th>age</th>\n",
       "      <th>workclass</th>\n",
       "      <th>education-num</th>\n",
       "      <th>marital-status</th>\n",
       "      <th>occupation</th>\n",
       "      <th>relationship</th>\n",
       "      <th>race</th>\n",
       "      <th>sex</th>\n",
       "      <th>hours-per-week</th>\n",
       "      <th>native-country</th>\n",
       "      <th>capital</th>\n",
       "    </tr>\n",
       "  </thead>\n",
       "  <tbody>\n",
       "    <tr>\n",
       "      <th>0</th>\n",
       "      <td>1</td>\n",
       "      <td>0</td>\n",
       "      <td>7</td>\n",
       "      <td>2</td>\n",
       "      <td>0</td>\n",
       "      <td>0</td>\n",
       "      <td>0</td>\n",
       "      <td>0</td>\n",
       "      <td>40</td>\n",
       "      <td>0</td>\n",
       "      <td>0</td>\n",
       "    </tr>\n",
       "    <tr>\n",
       "      <th>1</th>\n",
       "      <td>2</td>\n",
       "      <td>0</td>\n",
       "      <td>10</td>\n",
       "      <td>2</td>\n",
       "      <td>0</td>\n",
       "      <td>0</td>\n",
       "      <td>0</td>\n",
       "      <td>1</td>\n",
       "      <td>55</td>\n",
       "      <td>0</td>\n",
       "      <td>-1721</td>\n",
       "    </tr>\n",
       "    <tr>\n",
       "      <th>2</th>\n",
       "      <td>2</td>\n",
       "      <td>0</td>\n",
       "      <td>13</td>\n",
       "      <td>1</td>\n",
       "      <td>0</td>\n",
       "      <td>0</td>\n",
       "      <td>2</td>\n",
       "      <td>1</td>\n",
       "      <td>50</td>\n",
       "      <td>1</td>\n",
       "      <td>0</td>\n",
       "    </tr>\n",
       "    <tr>\n",
       "      <th>3</th>\n",
       "      <td>5</td>\n",
       "      <td>0</td>\n",
       "      <td>11</td>\n",
       "      <td>2</td>\n",
       "      <td>1</td>\n",
       "      <td>0</td>\n",
       "      <td>0</td>\n",
       "      <td>1</td>\n",
       "      <td>40</td>\n",
       "      <td>0</td>\n",
       "      <td>0</td>\n",
       "    </tr>\n",
       "    <tr>\n",
       "      <th>4</th>\n",
       "      <td>1</td>\n",
       "      <td>0</td>\n",
       "      <td>10</td>\n",
       "      <td>0</td>\n",
       "      <td>1</td>\n",
       "      <td>1</td>\n",
       "      <td>0</td>\n",
       "      <td>0</td>\n",
       "      <td>70</td>\n",
       "      <td>0</td>\n",
       "      <td>0</td>\n",
       "    </tr>\n",
       "  </tbody>\n",
       "</table>\n",
       "</div>"
      ],
      "text/plain": [
       "   age  workclass  education-num  marital-status  occupation  relationship  \\\n",
       "0    1          0              7               2           0             0   \n",
       "1    2          0             10               2           0             0   \n",
       "2    2          0             13               1           0             0   \n",
       "3    5          0             11               2           1             0   \n",
       "4    1          0             10               0           1             1   \n",
       "\n",
       "   race  sex  hours-per-week  native-country  capital  \n",
       "0     0    0              40               0        0  \n",
       "1     0    1              55               0    -1721  \n",
       "2     2    1              50               1        0  \n",
       "3     0    1              40               0        0  \n",
       "4     0    0              70               0        0  "
      ]
     },
     "execution_count": 161,
     "metadata": {},
     "output_type": "execute_result"
    }
   ],
   "source": [
    "X_train.head()"
   ]
  },
  {
   "cell_type": "markdown",
   "metadata": {},
   "source": [
    "### 4.모델 선택 및 학습하기"
   ]
  },
  {
   "cell_type": "code",
   "execution_count": 162,
   "metadata": {},
   "outputs": [],
   "source": [
    "from sklearn.linear_model import LogisticRegression #분류 선형모델"
   ]
  },
  {
   "cell_type": "code",
   "execution_count": 163,
   "metadata": {},
   "outputs": [],
   "source": [
    "logi_model = LogisticRegression()"
   ]
  },
  {
   "cell_type": "code",
   "execution_count": 164,
   "metadata": {},
   "outputs": [
    {
     "name": "stderr",
     "output_type": "stream",
     "text": [
      "C:\\Users\\SMHRD\\anaconda3\\lib\\site-packages\\sklearn\\linear_model\\_logistic.py:762: ConvergenceWarning: lbfgs failed to converge (status=1):\n",
      "STOP: TOTAL NO. of ITERATIONS REACHED LIMIT.\n",
      "\n",
      "Increase the number of iterations (max_iter) or scale the data as shown in:\n",
      "    https://scikit-learn.org/stable/modules/preprocessing.html\n",
      "Please also refer to the documentation for alternative solver options:\n",
      "    https://scikit-learn.org/stable/modules/linear_model.html#logistic-regression\n",
      "  n_iter_i = _check_optimize_result(\n"
     ]
    },
    {
     "data": {
      "text/plain": [
       "LogisticRegression()"
      ]
     },
     "execution_count": 164,
     "metadata": {},
     "output_type": "execute_result"
    }
   ],
   "source": [
    "logi_model.fit(X_train,y_train)"
   ]
  },
  {
   "cell_type": "markdown",
   "metadata": {},
   "source": [
    "### 5.예측 결과 업로드"
   ]
  },
  {
   "cell_type": "code",
   "execution_count": 155,
   "metadata": {},
   "outputs": [],
   "source": [
    "X_test =test #평가용 데이터셋 구축"
   ]
  },
  {
   "cell_type": "code",
   "execution_count": 165,
   "metadata": {},
   "outputs": [
    {
     "data": {
      "text/plain": [
       "array([0, 0, 0, ..., 1, 0, 0], dtype=int64)"
      ]
     },
     "execution_count": 165,
     "metadata": {},
     "output_type": "execute_result"
    }
   ],
   "source": [
    "logi_pre = logi_model.predict(X_test)\n",
    "logi_pre"
   ]
  },
  {
   "cell_type": "code",
   "execution_count": 166,
   "metadata": {},
   "outputs": [],
   "source": [
    "submission['income']=logi_pre #예측 결과를 양식에 넣기"
   ]
  },
  {
   "cell_type": "code",
   "execution_count": 168,
   "metadata": {},
   "outputs": [],
   "source": [
    "submission.to_csv('myFirstSubmission3.csv', index=False)"
   ]
  },
  {
   "cell_type": "code",
   "execution_count": null,
   "metadata": {},
   "outputs": [],
   "source": []
  }
 ],
 "metadata": {
  "kernelspec": {
   "display_name": "Python 3",
   "language": "python",
   "name": "python3"
  },
  "language_info": {
   "codemirror_mode": {
    "name": "ipython",
    "version": 3
   },
   "file_extension": ".py",
   "mimetype": "text/x-python",
   "name": "python",
   "nbconvert_exporter": "python",
   "pygments_lexer": "ipython3",
   "version": "3.8.3"
  }
 },
 "nbformat": 4,
 "nbformat_minor": 4
}
